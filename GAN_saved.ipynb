{
  "nbformat": 4,
  "nbformat_minor": 0,
  "metadata": {
    "colab": {
      "provenance": [],
      "gpuType": "T4"
    },
    "kernelspec": {
      "name": "python3",
      "display_name": "Python 3"
    },
    "language_info": {
      "name": "python"
    },
    "accelerator": "GPU"
  },
  "cells": [
    {
      "cell_type": "code",
      "execution_count": 1,
      "metadata": {
        "colab": {
          "base_uri": "https://localhost:8080/"
        },
        "id": "TL1oUfUtRMTs",
        "outputId": "cc4f463a-6ab5-4159-8968-b2cc4ece6a90"
      },
      "outputs": [
        {
          "output_type": "stream",
          "name": "stdout",
          "text": [
            "Mounted at /content/drive\n"
          ]
        }
      ],
      "source": [
        "from google.colab import drive\n",
        "drive.mount('/content/drive')"
      ]
    },
    {
      "cell_type": "code",
      "source": [
        "import torch\n",
        "import torch.nn as nn\n",
        "import torchvision.utils as vutils\n",
        "import os\n"
      ],
      "metadata": {
        "id": "POSPkQQoRWQs"
      },
      "execution_count": 2,
      "outputs": []
    },
    {
      "cell_type": "code",
      "source": [
        "device = torch.device('cuda' if torch.cuda.is_available() else 'cpu')\n",
        "print(f\"Using device: {device}\")"
      ],
      "metadata": {
        "colab": {
          "base_uri": "https://localhost:8080/"
        },
        "id": "W2PtFr4ZSd_I",
        "outputId": "0f907be9-6cc8-44ce-9ff4-cda758fa7364"
      },
      "execution_count": 3,
      "outputs": [
        {
          "output_type": "stream",
          "name": "stdout",
          "text": [
            "Using device: cuda\n"
          ]
        }
      ]
    },
    {
      "cell_type": "code",
      "source": [
        "class Generator(nn.Module):\n",
        "    def __init__(self, nz):\n",
        "        super(Generator, self).__init__()\n",
        "        self.main = nn.Sequential(\n",
        "            nn.ConvTranspose2d(nz, 512, 4, 1, 0, bias=False),   # 1x1 -> 4x4\n",
        "            nn.BatchNorm2d(512),\n",
        "            nn.ReLU(True),\n",
        "            nn.ConvTranspose2d(512, 256, 4, 2, 1, bias=False),  # 4x4 -> 8x8\n",
        "            nn.BatchNorm2d(256),\n",
        "            nn.ReLU(True),\n",
        "            nn.ConvTranspose2d(256, 128, 4, 2, 1, bias=False),  # 8x8 -> 16x16\n",
        "            nn.BatchNorm2d(128),\n",
        "            nn.ReLU(True),\n",
        "            nn.ConvTranspose2d(128, 64, 4, 2, 1, bias=False),   # 16x16 -> 32x32\n",
        "            nn.BatchNorm2d(64),\n",
        "            nn.ReLU(True),\n",
        "            nn.ConvTranspose2d(64, 3, 4, 2, 1, bias=False),     # 32x32 -> 64x64\n",
        "            nn.Tanh()\n",
        "        )\n",
        "\n",
        "    def forward(self, input):\n",
        "        return self.main(input)"
      ],
      "metadata": {
        "id": "v-KbUPYtRclN"
      },
      "execution_count": 4,
      "outputs": []
    },
    {
      "cell_type": "code",
      "source": [
        "class Discriminator(nn.Module):\n",
        "    def __init__(self):\n",
        "        super(Discriminator, self).__init__()\n",
        "        self.main = nn.Sequential(\n",
        "            nn.Conv2d(3, 128, 4, 2, 1, bias=False),\n",
        "            nn.LeakyReLU(0.2, inplace=True),\n",
        "            nn.Conv2d(128, 256, 4, 2, 1, bias=False),\n",
        "            nn.BatchNorm2d(256),\n",
        "            nn.LeakyReLU(0.2, inplace=True),\n",
        "            nn.Conv2d(256, 512, 4, 2, 1, bias=False),\n",
        "            nn.BatchNorm2d(512),\n",
        "            nn.LeakyReLU(0.2, inplace=True),\n",
        "            nn.Conv2d(512, 1, 4, 2, 1, bias=False),  # Output shape (batch,1,4,4)\n",
        "\n",
        "        )\n",
        "\n",
        "    def forward(self, x):\n",
        "        return self.main(x).view(x.size(0), -1).mean(1)  # Average over spatial dims\n",
        "\n",
        "# WGAN loss\n",
        "def generator_loss(fake_scores):\n",
        "    return -fake_scores.mean()\n",
        "\n",
        "def discriminator_loss(real_scores, fake_scores):\n",
        "    return fake_scores.mean() - real_scores.mean()\n"
      ],
      "metadata": {
        "id": "M0nUvfTERjnr"
      },
      "execution_count": 5,
      "outputs": []
    },
    {
      "cell_type": "code",
      "source": [
        "device = torch.device('cuda' if torch.cuda.is_available() else 'cpu')\n",
        "nz = 100  # latent vector size\n",
        "\n",
        "netG = Generator(nz).to(device)\n",
        "# Use this if running on cpu ↓\n",
        "#netG.load_state_dict(torch.load('/content/drive/MyDrive/Generated/generator_model.pth', map_location=torch.device('cpu')))\n",
        "netG.load_state_dict(torch.load('/content/drive/MyDrive/Generated/generator_model.pth'))\n",
        "netG.eval()\n"
      ],
      "metadata": {
        "colab": {
          "base_uri": "https://localhost:8080/"
        },
        "id": "pteW7Ds-RumL",
        "outputId": "d2546096-e188-45ba-f865-a67781747621"
      },
      "execution_count": 6,
      "outputs": [
        {
          "output_type": "execute_result",
          "data": {
            "text/plain": [
              "Generator(\n",
              "  (main): Sequential(\n",
              "    (0): ConvTranspose2d(100, 512, kernel_size=(4, 4), stride=(1, 1), bias=False)\n",
              "    (1): BatchNorm2d(512, eps=1e-05, momentum=0.1, affine=True, track_running_stats=True)\n",
              "    (2): ReLU(inplace=True)\n",
              "    (3): ConvTranspose2d(512, 256, kernel_size=(4, 4), stride=(2, 2), padding=(1, 1), bias=False)\n",
              "    (4): BatchNorm2d(256, eps=1e-05, momentum=0.1, affine=True, track_running_stats=True)\n",
              "    (5): ReLU(inplace=True)\n",
              "    (6): ConvTranspose2d(256, 128, kernel_size=(4, 4), stride=(2, 2), padding=(1, 1), bias=False)\n",
              "    (7): BatchNorm2d(128, eps=1e-05, momentum=0.1, affine=True, track_running_stats=True)\n",
              "    (8): ReLU(inplace=True)\n",
              "    (9): ConvTranspose2d(128, 64, kernel_size=(4, 4), stride=(2, 2), padding=(1, 1), bias=False)\n",
              "    (10): BatchNorm2d(64, eps=1e-05, momentum=0.1, affine=True, track_running_stats=True)\n",
              "    (11): ReLU(inplace=True)\n",
              "    (12): ConvTranspose2d(64, 3, kernel_size=(4, 4), stride=(2, 2), padding=(1, 1), bias=False)\n",
              "    (13): Tanh()\n",
              "  )\n",
              ")"
            ]
          },
          "metadata": {},
          "execution_count": 6
        }
      ]
    },
    {
      "cell_type": "code",
      "source": [
        "# Generate new images\n",
        "num_images = 100\n",
        "noise = torch.randn(num_images, nz, 1, 1, device=device)\n",
        "fake_images = netG(noise)\n",
        "\n",
        "\n",
        "output_dir = '/content/drive/MyDrive/Generated/Synthdata'\n",
        "os.makedirs(output_dir, exist_ok=True)\n",
        "\n",
        "for i in range(num_images):\n",
        "    path = os.path.join(output_dir, f\"new_generated_{i+1}.png\")\n",
        "    vutils.save_image(fake_images[i], path, normalize=True)\n",
        "    print(f\"Saved new image {i+1} to {path}\")\n"
      ],
      "metadata": {
        "colab": {
          "base_uri": "https://localhost:8080/"
        },
        "id": "ed62j0VSRpZQ",
        "outputId": "563f88e6-26ad-4000-f65e-d597c054d1e0"
      },
      "execution_count": 7,
      "outputs": [
        {
          "output_type": "stream",
          "name": "stdout",
          "text": [
            "Saved new image 1 to /content/drive/MyDrive/Generated/Synthdata/new_generated_1.png\n",
            "Saved new image 2 to /content/drive/MyDrive/Generated/Synthdata/new_generated_2.png\n",
            "Saved new image 3 to /content/drive/MyDrive/Generated/Synthdata/new_generated_3.png\n",
            "Saved new image 4 to /content/drive/MyDrive/Generated/Synthdata/new_generated_4.png\n",
            "Saved new image 5 to /content/drive/MyDrive/Generated/Synthdata/new_generated_5.png\n",
            "Saved new image 6 to /content/drive/MyDrive/Generated/Synthdata/new_generated_6.png\n",
            "Saved new image 7 to /content/drive/MyDrive/Generated/Synthdata/new_generated_7.png\n",
            "Saved new image 8 to /content/drive/MyDrive/Generated/Synthdata/new_generated_8.png\n",
            "Saved new image 9 to /content/drive/MyDrive/Generated/Synthdata/new_generated_9.png\n",
            "Saved new image 10 to /content/drive/MyDrive/Generated/Synthdata/new_generated_10.png\n",
            "Saved new image 11 to /content/drive/MyDrive/Generated/Synthdata/new_generated_11.png\n",
            "Saved new image 12 to /content/drive/MyDrive/Generated/Synthdata/new_generated_12.png\n",
            "Saved new image 13 to /content/drive/MyDrive/Generated/Synthdata/new_generated_13.png\n",
            "Saved new image 14 to /content/drive/MyDrive/Generated/Synthdata/new_generated_14.png\n",
            "Saved new image 15 to /content/drive/MyDrive/Generated/Synthdata/new_generated_15.png\n",
            "Saved new image 16 to /content/drive/MyDrive/Generated/Synthdata/new_generated_16.png\n",
            "Saved new image 17 to /content/drive/MyDrive/Generated/Synthdata/new_generated_17.png\n",
            "Saved new image 18 to /content/drive/MyDrive/Generated/Synthdata/new_generated_18.png\n",
            "Saved new image 19 to /content/drive/MyDrive/Generated/Synthdata/new_generated_19.png\n",
            "Saved new image 20 to /content/drive/MyDrive/Generated/Synthdata/new_generated_20.png\n",
            "Saved new image 21 to /content/drive/MyDrive/Generated/Synthdata/new_generated_21.png\n",
            "Saved new image 22 to /content/drive/MyDrive/Generated/Synthdata/new_generated_22.png\n",
            "Saved new image 23 to /content/drive/MyDrive/Generated/Synthdata/new_generated_23.png\n",
            "Saved new image 24 to /content/drive/MyDrive/Generated/Synthdata/new_generated_24.png\n",
            "Saved new image 25 to /content/drive/MyDrive/Generated/Synthdata/new_generated_25.png\n",
            "Saved new image 26 to /content/drive/MyDrive/Generated/Synthdata/new_generated_26.png\n",
            "Saved new image 27 to /content/drive/MyDrive/Generated/Synthdata/new_generated_27.png\n",
            "Saved new image 28 to /content/drive/MyDrive/Generated/Synthdata/new_generated_28.png\n",
            "Saved new image 29 to /content/drive/MyDrive/Generated/Synthdata/new_generated_29.png\n",
            "Saved new image 30 to /content/drive/MyDrive/Generated/Synthdata/new_generated_30.png\n",
            "Saved new image 31 to /content/drive/MyDrive/Generated/Synthdata/new_generated_31.png\n",
            "Saved new image 32 to /content/drive/MyDrive/Generated/Synthdata/new_generated_32.png\n",
            "Saved new image 33 to /content/drive/MyDrive/Generated/Synthdata/new_generated_33.png\n",
            "Saved new image 34 to /content/drive/MyDrive/Generated/Synthdata/new_generated_34.png\n",
            "Saved new image 35 to /content/drive/MyDrive/Generated/Synthdata/new_generated_35.png\n",
            "Saved new image 36 to /content/drive/MyDrive/Generated/Synthdata/new_generated_36.png\n",
            "Saved new image 37 to /content/drive/MyDrive/Generated/Synthdata/new_generated_37.png\n",
            "Saved new image 38 to /content/drive/MyDrive/Generated/Synthdata/new_generated_38.png\n",
            "Saved new image 39 to /content/drive/MyDrive/Generated/Synthdata/new_generated_39.png\n",
            "Saved new image 40 to /content/drive/MyDrive/Generated/Synthdata/new_generated_40.png\n",
            "Saved new image 41 to /content/drive/MyDrive/Generated/Synthdata/new_generated_41.png\n",
            "Saved new image 42 to /content/drive/MyDrive/Generated/Synthdata/new_generated_42.png\n",
            "Saved new image 43 to /content/drive/MyDrive/Generated/Synthdata/new_generated_43.png\n",
            "Saved new image 44 to /content/drive/MyDrive/Generated/Synthdata/new_generated_44.png\n",
            "Saved new image 45 to /content/drive/MyDrive/Generated/Synthdata/new_generated_45.png\n",
            "Saved new image 46 to /content/drive/MyDrive/Generated/Synthdata/new_generated_46.png\n",
            "Saved new image 47 to /content/drive/MyDrive/Generated/Synthdata/new_generated_47.png\n",
            "Saved new image 48 to /content/drive/MyDrive/Generated/Synthdata/new_generated_48.png\n",
            "Saved new image 49 to /content/drive/MyDrive/Generated/Synthdata/new_generated_49.png\n",
            "Saved new image 50 to /content/drive/MyDrive/Generated/Synthdata/new_generated_50.png\n",
            "Saved new image 51 to /content/drive/MyDrive/Generated/Synthdata/new_generated_51.png\n",
            "Saved new image 52 to /content/drive/MyDrive/Generated/Synthdata/new_generated_52.png\n",
            "Saved new image 53 to /content/drive/MyDrive/Generated/Synthdata/new_generated_53.png\n",
            "Saved new image 54 to /content/drive/MyDrive/Generated/Synthdata/new_generated_54.png\n",
            "Saved new image 55 to /content/drive/MyDrive/Generated/Synthdata/new_generated_55.png\n",
            "Saved new image 56 to /content/drive/MyDrive/Generated/Synthdata/new_generated_56.png\n",
            "Saved new image 57 to /content/drive/MyDrive/Generated/Synthdata/new_generated_57.png\n",
            "Saved new image 58 to /content/drive/MyDrive/Generated/Synthdata/new_generated_58.png\n",
            "Saved new image 59 to /content/drive/MyDrive/Generated/Synthdata/new_generated_59.png\n",
            "Saved new image 60 to /content/drive/MyDrive/Generated/Synthdata/new_generated_60.png\n",
            "Saved new image 61 to /content/drive/MyDrive/Generated/Synthdata/new_generated_61.png\n",
            "Saved new image 62 to /content/drive/MyDrive/Generated/Synthdata/new_generated_62.png\n",
            "Saved new image 63 to /content/drive/MyDrive/Generated/Synthdata/new_generated_63.png\n",
            "Saved new image 64 to /content/drive/MyDrive/Generated/Synthdata/new_generated_64.png\n",
            "Saved new image 65 to /content/drive/MyDrive/Generated/Synthdata/new_generated_65.png\n",
            "Saved new image 66 to /content/drive/MyDrive/Generated/Synthdata/new_generated_66.png\n",
            "Saved new image 67 to /content/drive/MyDrive/Generated/Synthdata/new_generated_67.png\n",
            "Saved new image 68 to /content/drive/MyDrive/Generated/Synthdata/new_generated_68.png\n",
            "Saved new image 69 to /content/drive/MyDrive/Generated/Synthdata/new_generated_69.png\n",
            "Saved new image 70 to /content/drive/MyDrive/Generated/Synthdata/new_generated_70.png\n",
            "Saved new image 71 to /content/drive/MyDrive/Generated/Synthdata/new_generated_71.png\n",
            "Saved new image 72 to /content/drive/MyDrive/Generated/Synthdata/new_generated_72.png\n",
            "Saved new image 73 to /content/drive/MyDrive/Generated/Synthdata/new_generated_73.png\n",
            "Saved new image 74 to /content/drive/MyDrive/Generated/Synthdata/new_generated_74.png\n",
            "Saved new image 75 to /content/drive/MyDrive/Generated/Synthdata/new_generated_75.png\n",
            "Saved new image 76 to /content/drive/MyDrive/Generated/Synthdata/new_generated_76.png\n",
            "Saved new image 77 to /content/drive/MyDrive/Generated/Synthdata/new_generated_77.png\n",
            "Saved new image 78 to /content/drive/MyDrive/Generated/Synthdata/new_generated_78.png\n",
            "Saved new image 79 to /content/drive/MyDrive/Generated/Synthdata/new_generated_79.png\n",
            "Saved new image 80 to /content/drive/MyDrive/Generated/Synthdata/new_generated_80.png\n",
            "Saved new image 81 to /content/drive/MyDrive/Generated/Synthdata/new_generated_81.png\n",
            "Saved new image 82 to /content/drive/MyDrive/Generated/Synthdata/new_generated_82.png\n",
            "Saved new image 83 to /content/drive/MyDrive/Generated/Synthdata/new_generated_83.png\n",
            "Saved new image 84 to /content/drive/MyDrive/Generated/Synthdata/new_generated_84.png\n",
            "Saved new image 85 to /content/drive/MyDrive/Generated/Synthdata/new_generated_85.png\n",
            "Saved new image 86 to /content/drive/MyDrive/Generated/Synthdata/new_generated_86.png\n",
            "Saved new image 87 to /content/drive/MyDrive/Generated/Synthdata/new_generated_87.png\n",
            "Saved new image 88 to /content/drive/MyDrive/Generated/Synthdata/new_generated_88.png\n",
            "Saved new image 89 to /content/drive/MyDrive/Generated/Synthdata/new_generated_89.png\n",
            "Saved new image 90 to /content/drive/MyDrive/Generated/Synthdata/new_generated_90.png\n",
            "Saved new image 91 to /content/drive/MyDrive/Generated/Synthdata/new_generated_91.png\n",
            "Saved new image 92 to /content/drive/MyDrive/Generated/Synthdata/new_generated_92.png\n",
            "Saved new image 93 to /content/drive/MyDrive/Generated/Synthdata/new_generated_93.png\n",
            "Saved new image 94 to /content/drive/MyDrive/Generated/Synthdata/new_generated_94.png\n",
            "Saved new image 95 to /content/drive/MyDrive/Generated/Synthdata/new_generated_95.png\n",
            "Saved new image 96 to /content/drive/MyDrive/Generated/Synthdata/new_generated_96.png\n",
            "Saved new image 97 to /content/drive/MyDrive/Generated/Synthdata/new_generated_97.png\n",
            "Saved new image 98 to /content/drive/MyDrive/Generated/Synthdata/new_generated_98.png\n",
            "Saved new image 99 to /content/drive/MyDrive/Generated/Synthdata/new_generated_99.png\n",
            "Saved new image 100 to /content/drive/MyDrive/Generated/Synthdata/new_generated_100.png\n"
          ]
        }
      ]
    }
  ]
}